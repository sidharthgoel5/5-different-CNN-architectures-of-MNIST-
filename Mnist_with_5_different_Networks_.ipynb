{
  "nbformat": 4,
  "nbformat_minor": 0,
  "metadata": {
    "colab": {
      "name": "Mnist_with_5_different_Networks .ipynb",
      "provenance": [],
      "collapsed_sections": [],
      "mount_file_id": "1uNWToHU-oWfsCuaQ-6kOpkxDW2oS6ope",
      "authorship_tag": "ABX9TyOrMa+EVZu/6/0HgnFIvOU7"
    },
    "kernelspec": {
      "name": "python3",
      "display_name": "Python 3"
    },
    "language_info": {
      "name": "python"
    },
    "accelerator": "GPU"
  },
  "cells": [
    {
      "cell_type": "code",
      "metadata": {
        "colab": {
          "base_uri": "https://localhost:8080/"
        },
        "id": "3chvC2mtokX5",
        "outputId": "757f30a1-16fb-47e7-bb1d-b29f3a90d9a2"
      },
      "source": [
        "ls"
      ],
      "execution_count": null,
      "outputs": [
        {
          "output_type": "stream",
          "text": [
            " Ann_Regression_analysis_Grid_search.ipynb\n",
            " Assignment1_Fashion_Mnist.ipynb\n",
            " Batch_normalization_Keras.ipynb\n",
            " Convolutional_Neural_Network_World_1.ipynb\n",
            " full_mnist_model.h5\n",
            " June_6_batch.ipynb\n",
            " \u001b[0m\u001b[01;34mlog\u001b[0m/\n",
            " Mnist_dataset_ANN.ipynb\n",
            "'Mnist_dataset_ANN_With Callbacks.ipynb'\n",
            "'Mnist_with_5_different_Networks .ipynb'\n",
            " model_best_fashion.h5\n",
            " model_ckpt.h5\n",
            " \u001b[01;34mmy_logs\u001b[0m/\n",
            " pretrained_mnist_model.h5\n",
            "'Regression_Model_Using Keras.ipynb'\n",
            " \u001b[01;34mTrained_model\u001b[0m/\n"
          ],
          "name": "stdout"
        }
      ]
    },
    {
      "cell_type": "code",
      "metadata": {
        "id": "KSDBcenTrXU5"
      },
      "source": [
        "import os\n",
        "os.chdir('/content/drive/MyDrive/Ineuron_Practical')"
      ],
      "execution_count": null,
      "outputs": []
    },
    {
      "cell_type": "code",
      "metadata": {
        "colab": {
          "base_uri": "https://localhost:8080/"
        },
        "id": "K6TWOmLIruVZ",
        "outputId": "467b2793-e879-4ab8-b646-6cf30fb8f64e"
      },
      "source": [
        "ls"
      ],
      "execution_count": null,
      "outputs": [
        {
          "output_type": "stream",
          "text": [
            " Ann_Regression_analysis_Grid_search.ipynb\n",
            " Assignment1_Fashion_Mnist.ipynb\n",
            " Batch_normalization_Keras.ipynb\n",
            " Convolutional_Neural_Network_World_1.ipynb\n",
            " full_mnist_model.h5\n",
            " June_6_batch.ipynb\n",
            " \u001b[0m\u001b[01;34mlog\u001b[0m/\n",
            " Mnist_dataset_ANN.ipynb\n",
            "'Mnist_dataset_ANN_With Callbacks.ipynb'\n",
            "'Mnist_with_5_different_Networks .ipynb'\n",
            " model_best_fashion.h5\n",
            " model_ckpt.h5\n",
            " \u001b[01;34mmy_logs\u001b[0m/\n",
            " pretrained_mnist_model.h5\n",
            "'Regression_Model_Using Keras.ipynb'\n",
            " \u001b[01;34mTrained_model\u001b[0m/\n"
          ],
          "name": "stdout"
        }
      ]
    },
    {
      "cell_type": "code",
      "metadata": {
        "id": "M5z2pV0aru29"
      },
      "source": [
        "import numpy as np\n",
        "import pandas as pd\n",
        "import matplotlib.pyplot as plt\n",
        "import seaborn as sns\n",
        "import tensorflow as tf\n",
        "%matplotlib inline"
      ],
      "execution_count": null,
      "outputs": []
    },
    {
      "cell_type": "code",
      "metadata": {
        "id": "oNZhlvyPr9Y3"
      },
      "source": [
        "mnist = tf.keras.datasets.mnist.load_data()"
      ],
      "execution_count": null,
      "outputs": []
    },
    {
      "cell_type": "code",
      "metadata": {
        "id": "8QGfyu2ssCBZ"
      },
      "source": [
        "(xtrain,ytrain),(xtest,ytest)=mnist"
      ],
      "execution_count": null,
      "outputs": []
    },
    {
      "cell_type": "code",
      "metadata": {
        "colab": {
          "base_uri": "https://localhost:8080/"
        },
        "id": "JtquiX15r57I",
        "outputId": "ac00b587-9ebc-4469-850d-09957a561969"
      },
      "source": [
        "print(xtrain.shape,\n",
        "ytrain.shape,\n",
        "xtest.shape,\n",
        "ytest.shape)"
      ],
      "execution_count": null,
      "outputs": [
        {
          "output_type": "stream",
          "text": [
            "(60000, 28, 28) (60000,) (10000, 28, 28) (10000,)\n"
          ],
          "name": "stdout"
        }
      ]
    },
    {
      "cell_type": "code",
      "metadata": {
        "id": "MTt-WqxDsQyo"
      },
      "source": [
        "xtrain_scaled = xtrain/255.\n",
        "#ytrain_scaled = ytrain/255.\n",
        "xtest_scaled  = xtest/255."
      ],
      "execution_count": null,
      "outputs": []
    },
    {
      "cell_type": "code",
      "metadata": {
        "colab": {
          "base_uri": "https://localhost:8080/",
          "height": 303
        },
        "id": "BEX2BpRdsgbC",
        "outputId": "81005143-39a4-4b79-97d9-73121c538c51"
      },
      "source": [
        "plt.figure(figsize=(5,5))\n",
        "plt.imshow(xtrain[0],cmap='binary')\n",
        "plt.axis('off')\n",
        "plt.show()"
      ],
      "execution_count": null,
      "outputs": [
        {
          "output_type": "display_data",
          "data": {
            "image/png": "[encoded data removed]",
            "text/plain": [
              "<Figure size 360x360 with 1 Axes>"
            ]
          },
          "metadata": {
            "tags": [],
            "needs_background": "light"
          }
        }
      ]
    },
    {
      "cell_type": "code",
      "metadata": {
        "colab": {
          "base_uri": "https://localhost:8080/",
          "height": 337
        },
        "id": "W6MIPzBysjmC",
        "outputId": "c5c5b61c-a4c9-42c2-d679-6785a783bc78"
      },
      "source": [
        "plt.figure(figsize=(5,5))\n",
        "sns.heatmap(xtrain[0],cmap='binary',annot=True)"
      ],
      "execution_count": null,
      "outputs": [
        {
          "output_type": "execute_result",
          "data": {
            "text/plain": [
              "<matplotlib.axes._subplots.AxesSubplot at 0x7f053c3b5f50>"
            ]
          },
          "metadata": {
            "tags": []
          },
          "execution_count": 65
        },
        {
          "output_type": "display_data",
          "data": {
            "image/png": "[encoded data removed]",
            "text/plain": [
              "<Figure size 360x360 with 2 Axes>"
            ]
          },
          "metadata": {
            "tags": [],
            "needs_background": "light"
          }
        }
      ]
    },
    {
      "cell_type": "code",
      "metadata": {
        "colab": {
          "base_uri": "https://localhost:8080/",
          "height": 341
        },
        "id": "tD-nfwhmsssb",
        "outputId": "5dcec56f-d324-4f15-eeb3-3ff4bbd4fd31"
      },
      "source": [
        "plt.figure(figsize=(5,5))\n",
        "sns.heatmap(xtrain_scaled[0],cmap='binary',annot=True)"
      ],
      "execution_count": null,
      "outputs": [
        {
          "output_type": "execute_result",
          "data": {
            "text/plain": [
              "<matplotlib.axes._subplots.AxesSubplot at 0x7f053c302610>"
            ]
          },
          "metadata": {
            "tags": []
          },
          "execution_count": 66
        },
        {
          "output_type": "display_data",
          "data": {
            "image/png": "[encoded data removed]",
            "text/plain": [
              "<Figure size 360x360 with 2 Axes>"
            ]
          },
          "metadata": {
            "tags": [],
            "needs_background": "light"
          }
        }
      ]
    },
    {
      "cell_type": "code",
      "metadata": {
        "colab": {
          "base_uri": "https://localhost:8080/"
        },
        "id": "5LqAi3j9DI0L",
        "outputId": "05985658-df33-4c1e-cd4f-1ce2959a11c9"
      },
      "source": [
        "from keras.utils import np_utils\n",
        "\n",
        "num_classes = 10 \n",
        "# print first ten (integer-valued) training labels\n",
        "print('Integer-valued labels:')\n",
        "print(ytrain[:10])\n",
        "\n",
        "# one-hot encode the labels\n",
        "# convert class vectors to binary class matrices\n",
        "y_train = np_utils.to_categorical(ytrain, num_classes)\n",
        "y_test = np_utils.to_categorical(ytest, num_classes)\n",
        "\n",
        "# print first ten (one-hot) training labels\n",
        "print('One-hot labels:')\n",
        "print(y_train[:10])"
      ],
      "execution_count": null,
      "outputs": [
        {
          "output_type": "stream",
          "text": [
            "Integer-valued labels:\n",
            "[5 0 4 1 9 2 1 3 1 4]\n",
            "One-hot labels:\n",
            "[[0. 0. 0. 0. 0. 1. 0. 0. 0. 0.]\n",
            " [1. 0. 0. 0. 0. 0. 0. 0. 0. 0.]\n",
            " [0. 0. 0. 0. 1. 0. 0. 0. 0. 0.]\n",
            " [0. 1. 0. 0. 0. 0. 0. 0. 0. 0.]\n",
            " [0. 0. 0. 0. 0. 0. 0. 0. 0. 1.]\n",
            " [0. 0. 1. 0. 0. 0. 0. 0. 0. 0.]\n",
            " [0. 1. 0. 0. 0. 0. 0. 0. 0. 0.]\n",
            " [0. 0. 0. 1. 0. 0. 0. 0. 0. 0.]\n",
            " [0. 1. 0. 0. 0. 0. 0. 0. 0. 0.]\n",
            " [0. 0. 0. 0. 1. 0. 0. 0. 0. 0.]]\n"
          ],
          "name": "stdout"
        }
      ]
    },
    {
      "cell_type": "code",
      "metadata": {
        "colab": {
          "base_uri": "https://localhost:8080/"
        },
        "id": "u8UB66ePDlJt",
        "outputId": "5b04454b-2540-4da0-e6e8-8a9982ff8df8"
      },
      "source": [
        "# input image dimensions 28x28 pixel images. \n",
        "img_rows, img_cols = 28, 28\n",
        "\n",
        "X_train = xtrain_scaled.reshape(xtrain.shape[0], img_rows, img_cols, 1)\n",
        "X_test = xtest_scaled.reshape(xtest.shape[0], img_rows, img_cols, 1)\n",
        "input_shape = (img_rows, img_cols, 1)\n",
        "\n",
        "print('input_shape: ', input_shape)\n",
        "print('x_train shape:', X_train.shape)"
      ],
      "execution_count": null,
      "outputs": [
        {
          "output_type": "stream",
          "text": [
            "input_shape:  (28, 28, 1)\n",
            "x_train shape: (60000, 28, 28, 1)\n"
          ],
          "name": "stdout"
        }
      ]
    },
    {
      "cell_type": "code",
      "metadata": {
        "id": "SMnofZTsM6Ps"
      },
      "source": [
        "Model_name = []\n",
        "Model_acc  = []"
      ],
      "execution_count": null,
      "outputs": []
    },
    {
      "cell_type": "code",
      "metadata": {
        "id": "U5syhEMzsL5Y"
      },
      "source": [
        "from tensorflow.keras.layers import Conv2D,Dense,Flatten,MaxPool2D,MaxPooling2D\n",
        "from tensorflow.keras.models import Sequential\n",
        "from tensorflow.keras.callbacks import ModelCheckpoint,EarlyStopping\n"
      ],
      "execution_count": null,
      "outputs": []
    },
    {
      "cell_type": "markdown",
      "metadata": {
        "id": "PFkSqnlOHHeA"
      },
      "source": [
        "## Model 1 with only 1 Convolution Layer"
      ]
    },
    {
      "cell_type": "code",
      "metadata": {
        "id": "JT9ycw1auInL",
        "colab": {
          "base_uri": "https://localhost:8080/"
        },
        "outputId": "8e8ab4e1-e965-4fea-ea25-c17db960da45"
      },
      "source": [
        "model1 = Sequential()\n",
        "#Step 2- Adding a Convolution Layer\n",
        "model1.add(Conv2D(32, kernel_size=(3, 3), padding='same',activation='relu',kernel_initializer='he_normal',input_shape=(28,28,1)))\n",
        "#step 3- Adding a Maxpooling layer\n",
        "model1.add(MaxPooling2D(pool_size = (2, 2)))\n",
        "#Step 4 - Flattening the data\n",
        "model1.add(Flatten())\n",
        "\n",
        "# Step 5 - Full connection\n",
        "model1.add(Dense(128, activation = 'relu'))\n",
        "\n",
        "model1.add(Dense(10, activation = 'softmax'))\n",
        "\n",
        "model1.summary()\n",
        "\n",
        "# Compiling the CNN\n",
        "model1.compile(loss='categorical_crossentropy', optimizer='adam', \n",
        "              metrics=['accuracy'])\n",
        "\n",
        "# train the model\n",
        "checkpointer = ModelCheckpoint(filepath='model.weights.best.hdf5', verbose=1, \n",
        "                               save_best_only=True)\n",
        "Early_stopping = EarlyStopping(patience=10,verbose=1,restore_best_weights=True)\n",
        "hist = model1.fit(X_train, y_train, batch_size=64, epochs=100,\n",
        "          validation_split=0.2, callbacks=[checkpointer,Early_stopping])\n",
        "          #verbose=2, shuffle=True)"
      ],
      "execution_count": null,
      "outputs": [
        {
          "output_type": "stream",
          "text": [
            "Model: \"sequential_13\"\n",
            "_________________________________________________________________\n",
            "Layer (type)                 Output Shape              Param #   \n",
            "=================================================================\n",
            "conv2d_21 (Conv2D)           (None, 28, 28, 32)        320       \n",
            "_________________________________________________________________\n",
            "max_pooling2d_9 (MaxPooling2 (None, 14, 14, 32)        0         \n",
            "_________________________________________________________________\n",
            "flatten_9 (Flatten)          (None, 6272)              0         \n",
            "_________________________________________________________________\n",
            "dense_18 (Dense)             (None, 128)               802944    \n",
            "_________________________________________________________________\n",
            "dense_19 (Dense)             (None, 10)                1290      \n",
            "=================================================================\n",
            "Total params: 804,554\n",
            "Trainable params: 804,554\n",
            "Non-trainable params: 0\n",
            "_________________________________________________________________\n",
            "Epoch 1/100\n",
            "750/750 [==============================] - 3s 4ms/step - loss: 0.1777 - accuracy: 0.9454 - val_loss: 0.0769 - val_accuracy: 0.9758\n",
            "\n",
            "Epoch 00001: val_loss improved from inf to 0.07692, saving model to model.weights.best.hdf5\n",
            "Epoch 2/100\n",
            "750/750 [==============================] - 2s 3ms/step - loss: 0.0558 - accuracy: 0.9826 - val_loss: 0.0696 - val_accuracy: 0.9797\n",
            "\n",
            "Epoch 00002: val_loss improved from 0.07692 to 0.06958, saving model to model.weights.best.hdf5\n",
            "Epoch 3/100\n",
            "750/750 [==============================] - 3s 3ms/step - loss: 0.0328 - accuracy: 0.9899 - val_loss: 0.0663 - val_accuracy: 0.9807\n",
            "\n",
            "Epoch 00003: val_loss improved from 0.06958 to 0.06630, saving model to model.weights.best.hdf5\n",
            "Epoch 4/100\n",
            "750/750 [==============================] - 2s 3ms/step - loss: 0.0220 - accuracy: 0.9929 - val_loss: 0.0688 - val_accuracy: 0.9808\n",
            "\n",
            "Epoch 00004: val_loss did not improve from 0.06630\n",
            "Epoch 5/100\n",
            "750/750 [==============================] - 3s 3ms/step - loss: 0.0175 - accuracy: 0.9943 - val_loss: 0.0582 - val_accuracy: 0.9841\n",
            "\n",
            "Epoch 00005: val_loss improved from 0.06630 to 0.05825, saving model to model.weights.best.hdf5\n",
            "Epoch 6/100\n",
            "750/750 [==============================] - 2s 3ms/step - loss: 0.0108 - accuracy: 0.9966 - val_loss: 0.0769 - val_accuracy: 0.9803\n",
            "\n",
            "Epoch 00006: val_loss did not improve from 0.05825\n",
            "Epoch 7/100\n",
            "750/750 [==============================] - 2s 3ms/step - loss: 0.0075 - accuracy: 0.9977 - val_loss: 0.0635 - val_accuracy: 0.9839\n",
            "\n",
            "Epoch 00007: val_loss did not improve from 0.05825\n",
            "Epoch 8/100\n",
            "750/750 [==============================] - 2s 3ms/step - loss: 0.0063 - accuracy: 0.9981 - val_loss: 0.0708 - val_accuracy: 0.9829\n",
            "\n",
            "Epoch 00008: val_loss did not improve from 0.05825\n",
            "Epoch 9/100\n",
            "750/750 [==============================] - 2s 3ms/step - loss: 0.0069 - accuracy: 0.9979 - val_loss: 0.0894 - val_accuracy: 0.9812\n",
            "\n",
            "Epoch 00009: val_loss did not improve from 0.05825\n",
            "Epoch 10/100\n",
            "750/750 [==============================] - 2s 3ms/step - loss: 0.0066 - accuracy: 0.9978 - val_loss: 0.0692 - val_accuracy: 0.9833\n",
            "\n",
            "Epoch 00010: val_loss did not improve from 0.05825\n",
            "Epoch 11/100\n",
            "750/750 [==============================] - 3s 4ms/step - loss: 0.0045 - accuracy: 0.9984 - val_loss: 0.0757 - val_accuracy: 0.9838\n",
            "\n",
            "Epoch 00011: val_loss did not improve from 0.05825\n",
            "Epoch 12/100\n",
            "750/750 [==============================] - 2s 3ms/step - loss: 0.0020 - accuracy: 0.9995 - val_loss: 0.0704 - val_accuracy: 0.9861\n",
            "\n",
            "Epoch 00012: val_loss did not improve from 0.05825\n",
            "Epoch 13/100\n",
            "750/750 [==============================] - 3s 4ms/step - loss: 0.0057 - accuracy: 0.9982 - val_loss: 0.0768 - val_accuracy: 0.9841\n",
            "\n",
            "Epoch 00013: val_loss did not improve from 0.05825\n",
            "Epoch 14/100\n",
            "750/750 [==============================] - 3s 4ms/step - loss: 0.0055 - accuracy: 0.9981 - val_loss: 0.0815 - val_accuracy: 0.9837\n",
            "\n",
            "Epoch 00014: val_loss did not improve from 0.05825\n",
            "Epoch 15/100\n",
            "750/750 [==============================] - 3s 4ms/step - loss: 0.0011 - accuracy: 0.9997 - val_loss: 0.0681 - val_accuracy: 0.9868\n",
            "\n",
            "Epoch 00015: val_loss did not improve from 0.05825\n",
            "Restoring model weights from the end of the best epoch.\n",
            "Epoch 00015: early stopping\n"
          ],
          "name": "stdout"
        }
      ]
    },
    {
      "cell_type": "code",
      "metadata": {
        "colab": {
          "base_uri": "https://localhost:8080/"
        },
        "id": "eOI-uW9etuGc",
        "outputId": "12112f3b-b378-44eb-ff9d-91a8d5106731"
      },
      "source": [
        "# evaluate test accuracy\n",
        "score1 = model1.evaluate(X_test, y_test, verbose=0)\n",
        "accuracy1 = 100*score1[1]\n",
        "\n",
        "# print test accuracy\n",
        "print('Test accuracy: %.4f%%' % accuracy1)"
      ],
      "execution_count": null,
      "outputs": [
        {
          "output_type": "stream",
          "text": [
            "Test accuracy: 98.4800%\n"
          ],
          "name": "stdout"
        }
      ]
    },
    {
      "cell_type": "code",
      "metadata": {
        "id": "QGu8ohVItUhp"
      },
      "source": [
        "Model_name.append('With 1 Convolution Layer')\n",
        "Model_acc.append(accuracy1)"
      ],
      "execution_count": null,
      "outputs": []
    },
    {
      "cell_type": "code",
      "metadata": {
        "colab": {
          "base_uri": "https://localhost:8080/"
        },
        "id": "5nP4m0LMNQeR",
        "outputId": "06f03039-b22a-4555-b439-161c649ae7cc"
      },
      "source": [
        "print(Model_name,Model_acc)"
      ],
      "execution_count": null,
      "outputs": [
        {
          "output_type": "stream",
          "text": [
            "['With 1 Convolution Layer'] [98.47999811172485]\n"
          ],
          "name": "stdout"
        }
      ]
    },
    {
      "cell_type": "markdown",
      "metadata": {
        "id": "fUcYlLD0NXth"
      },
      "source": [
        "# Model 2 with 2 Convolution Layer"
      ]
    },
    {
      "cell_type": "code",
      "metadata": {
        "colab": {
          "base_uri": "https://localhost:8080/"
        },
        "id": "tACC1B3PNcjD",
        "outputId": "eadef079-28e1-4764-d34f-e6a70a1ec921"
      },
      "source": [
        "model2 = Sequential()\n",
        "#Step 2- Adding a Convolution Layer\n",
        "model2.add(Conv2D(32, kernel_size=(3, 3), padding='same',activation='relu',kernel_initializer='he_normal',input_shape=(28,28,1)))\n",
        "model2.add(Conv2D(16, kernel_size=(3, 3), padding='same',activation='relu',kernel_initializer='he_normal'))\n",
        "#step 3- Adding a Maxpooling layer\n",
        "model2.add(MaxPooling2D(pool_size = (2, 2)))\n",
        "#Step 4 - Flattening the data\n",
        "model2.add(Flatten())\n",
        "\n",
        "# Step 5 - Full connection\n",
        "model2.add(Dense(128, activation = 'relu'))\n",
        "\n",
        "model2.add(Dense(10, activation = 'softmax'))\n",
        "\n",
        "model2.summary()\n",
        "\n",
        "# Compiling the CNN\n",
        "model2.compile(loss='categorical_crossentropy', optimizer='adam', \n",
        "              metrics=['accuracy'])\n",
        "\n",
        "# train the model\n",
        "checkpointer = ModelCheckpoint(filepath='model.weights.best.hdf5', verbose=1, \n",
        "                               save_best_only=True)\n",
        "Early_stopping = EarlyStopping(patience=10,verbose=1,restore_best_weights=True)\n",
        "hist = model2.fit(X_train, y_train, batch_size=128, epochs=100,\n",
        "          validation_split=0.2, callbacks=[checkpointer,Early_stopping],\n",
        "          verbose=2, shuffle=True)"
      ],
      "execution_count": null,
      "outputs": [
        {
          "output_type": "stream",
          "text": [
            "Model: \"sequential_14\"\n",
            "_________________________________________________________________\n",
            "Layer (type)                 Output Shape              Param #   \n",
            "=================================================================\n",
            "conv2d_22 (Conv2D)           (None, 28, 28, 32)        320       \n",
            "_________________________________________________________________\n",
            "conv2d_23 (Conv2D)           (None, 28, 28, 16)        4624      \n",
            "_________________________________________________________________\n",
            "max_pooling2d_10 (MaxPooling (None, 14, 14, 16)        0         \n",
            "_________________________________________________________________\n",
            "flatten_10 (Flatten)         (None, 3136)              0         \n",
            "_________________________________________________________________\n",
            "dense_20 (Dense)             (None, 128)               401536    \n",
            "_________________________________________________________________\n",
            "dense_21 (Dense)             (None, 10)                1290      \n",
            "=================================================================\n",
            "Total params: 407,770\n",
            "Trainable params: 407,770\n",
            "Non-trainable params: 0\n",
            "_________________________________________________________________\n",
            "Epoch 1/100\n",
            "375/375 - 3s - loss: 0.1778 - accuracy: 0.9459 - val_loss: 0.0627 - val_accuracy: 0.9812\n",
            "\n",
            "Epoch 00001: val_loss improved from inf to 0.06269, saving model to model.weights.best.hdf5\n",
            "Epoch 2/100\n",
            "375/375 - 2s - loss: 0.0520 - accuracy: 0.9843 - val_loss: 0.0496 - val_accuracy: 0.9843\n",
            "\n",
            "Epoch 00002: val_loss improved from 0.06269 to 0.04958, saving model to model.weights.best.hdf5\n",
            "Epoch 3/100\n",
            "375/375 - 2s - loss: 0.0323 - accuracy: 0.9899 - val_loss: 0.0462 - val_accuracy: 0.9872\n",
            "\n",
            "Epoch 00003: val_loss improved from 0.04958 to 0.04618, saving model to model.weights.best.hdf5\n",
            "Epoch 4/100\n",
            "375/375 - 2s - loss: 0.0206 - accuracy: 0.9931 - val_loss: 0.0587 - val_accuracy: 0.9841\n",
            "\n",
            "Epoch 00004: val_loss did not improve from 0.04618\n",
            "Epoch 5/100\n",
            "375/375 - 2s - loss: 0.0158 - accuracy: 0.9949 - val_loss: 0.0548 - val_accuracy: 0.9855\n",
            "\n",
            "Epoch 00005: val_loss did not improve from 0.04618\n",
            "Epoch 6/100\n",
            "375/375 - 2s - loss: 0.0102 - accuracy: 0.9968 - val_loss: 0.0452 - val_accuracy: 0.9883\n",
            "\n",
            "Epoch 00006: val_loss improved from 0.04618 to 0.04520, saving model to model.weights.best.hdf5\n",
            "Epoch 7/100\n",
            "375/375 - 2s - loss: 0.0088 - accuracy: 0.9968 - val_loss: 0.0525 - val_accuracy: 0.9879\n",
            "\n",
            "Epoch 00007: val_loss did not improve from 0.04520\n",
            "Epoch 8/100\n",
            "375/375 - 2s - loss: 0.0075 - accuracy: 0.9973 - val_loss: 0.0570 - val_accuracy: 0.9863\n",
            "\n",
            "Epoch 00008: val_loss did not improve from 0.04520\n",
            "Epoch 9/100\n",
            "375/375 - 2s - loss: 0.0087 - accuracy: 0.9972 - val_loss: 0.0566 - val_accuracy: 0.9870\n",
            "\n",
            "Epoch 00009: val_loss did not improve from 0.04520\n",
            "Epoch 10/100\n",
            "375/375 - 2s - loss: 0.0052 - accuracy: 0.9984 - val_loss: 0.0541 - val_accuracy: 0.9883\n",
            "\n",
            "Epoch 00010: val_loss did not improve from 0.04520\n",
            "Epoch 11/100\n",
            "375/375 - 2s - loss: 0.0045 - accuracy: 0.9985 - val_loss: 0.0516 - val_accuracy: 0.9896\n",
            "\n",
            "Epoch 00011: val_loss did not improve from 0.04520\n",
            "Epoch 12/100\n",
            "375/375 - 2s - loss: 0.0028 - accuracy: 0.9992 - val_loss: 0.0472 - val_accuracy: 0.9901\n",
            "\n",
            "Epoch 00012: val_loss did not improve from 0.04520\n",
            "Epoch 13/100\n",
            "375/375 - 2s - loss: 0.0039 - accuracy: 0.9986 - val_loss: 0.0630 - val_accuracy: 0.9870\n",
            "\n",
            "Epoch 00013: val_loss did not improve from 0.04520\n",
            "Epoch 14/100\n",
            "375/375 - 2s - loss: 0.0064 - accuracy: 0.9978 - val_loss: 0.0545 - val_accuracy: 0.9868\n",
            "\n",
            "Epoch 00014: val_loss did not improve from 0.04520\n",
            "Epoch 15/100\n",
            "375/375 - 2s - loss: 0.0039 - accuracy: 0.9989 - val_loss: 0.0534 - val_accuracy: 0.9883\n",
            "\n",
            "Epoch 00015: val_loss did not improve from 0.04520\n",
            "Epoch 16/100\n",
            "375/375 - 2s - loss: 0.0032 - accuracy: 0.9990 - val_loss: 0.0594 - val_accuracy: 0.9893\n",
            "\n",
            "Epoch 00016: val_loss did not improve from 0.04520\n",
            "Restoring model weights from the end of the best epoch.\n",
            "Epoch 00016: early stopping\n"
          ],
          "name": "stdout"
        }
      ]
    },
    {
      "cell_type": "code",
      "metadata": {
        "colab": {
          "base_uri": "https://localhost:8080/"
        },
        "id": "YiFZdUcpsJ0y",
        "outputId": "96400714-c30c-451b-94b3-26713c6979ac"
      },
      "source": [
        "# evaluate test accuracy\n",
        "score2 = model2.evaluate(X_test, y_test, verbose=0)\n",
        "accuracy2 = 100*score2[1]\n",
        "\n",
        "# print test accuracy\n",
        "print('Test accuracy: %.4f%%' % accuracy2)\n",
        "\n"
      ],
      "execution_count": null,
      "outputs": [
        {
          "output_type": "stream",
          "text": [
            "Test accuracy: 98.7800%\n"
          ],
          "name": "stdout"
        }
      ]
    },
    {
      "cell_type": "code",
      "metadata": {
        "id": "fXIDWbWgGQF5"
      },
      "source": [
        "Model_name.append('With 2 Convolution Layer')\n",
        "Model_acc.append(accuracy2)"
      ],
      "execution_count": null,
      "outputs": []
    },
    {
      "cell_type": "markdown",
      "metadata": {
        "id": "Yz9K8WUiaoWK"
      },
      "source": [
        "# Model3 with More than 2 convolution and maxpooling layers"
      ]
    },
    {
      "cell_type": "code",
      "metadata": {
        "colab": {
          "base_uri": "https://localhost:8080/"
        },
        "id": "_v9phpR2alar",
        "outputId": "bbeff69a-5106-4920-a940-6e47b53434a0"
      },
      "source": [
        "model3 = Sequential()\n",
        "#Step 2- Adding a Convolution Layer\n",
        "model3.add(Conv2D(64, kernel_size=(3, 3), padding='same',activation='relu',kernel_initializer='he_normal',input_shape=(28,28,1)))\n",
        "model3.add(MaxPooling2D(pool_size = (2, 2)))\n",
        "model3.add(Conv2D(32, kernel_size=(3, 3), padding='same',activation='relu',kernel_initializer='he_normal'))\n",
        "model3.add(MaxPooling2D(pool_size = (2, 2)))\n",
        "model3.add(Conv2D(16, kernel_size=(3, 3), padding='same',activation='relu',kernel_initializer='he_normal'))\n",
        "#step 3- Adding a Maxpooling layer\n",
        "model3.add(MaxPooling2D(pool_size = (2, 2)))\n",
        "#Step 4 - Flattening the data\n",
        "model3.add(Flatten())\n",
        "\n",
        "# Step 5 - Full connection\n",
        "model3.add(Dense(128, activation = 'relu'))\n",
        "\n",
        "model3.add(Dense(10, activation = 'softmax'))\n",
        "\n",
        "model3.summary()\n",
        "\n",
        "# Compiling the CNN\n",
        "model3.compile(loss='categorical_crossentropy', optimizer='rmsprop', \n",
        "              metrics=['accuracy'])\n",
        "\n",
        "# train the model\n",
        "checkpointer = ModelCheckpoint(filepath='model.weights.best.hdf5', verbose=1, \n",
        "                               save_best_only=True)\n",
        "Early_stopping = EarlyStopping(patience=10,verbose=1,restore_best_weights=True)\n",
        "hist = model3.fit(X_train, y_train, batch_size=256, epochs=100,\n",
        "          validation_split=0.2, callbacks=[checkpointer,Early_stopping],\n",
        "          verbose=2, shuffle=True)"
      ],
      "execution_count": null,
      "outputs": [
        {
          "output_type": "stream",
          "text": [
            "Model: \"sequential_15\"\n",
            "_________________________________________________________________\n",
            "Layer (type)                 Output Shape              Param #   \n",
            "=================================================================\n",
            "conv2d_24 (Conv2D)           (None, 28, 28, 64)        640       \n",
            "_________________________________________________________________\n",
            "max_pooling2d_11 (MaxPooling (None, 14, 14, 64)        0         \n",
            "_________________________________________________________________\n",
            "conv2d_25 (Conv2D)           (None, 14, 14, 32)        18464     \n",
            "_________________________________________________________________\n",
            "max_pooling2d_12 (MaxPooling (None, 7, 7, 32)          0         \n",
            "_________________________________________________________________\n",
            "conv2d_26 (Conv2D)           (None, 7, 7, 16)          4624      \n",
            "_________________________________________________________________\n",
            "max_pooling2d_13 (MaxPooling (None, 3, 3, 16)          0         \n",
            "_________________________________________________________________\n",
            "flatten_11 (Flatten)         (None, 144)               0         \n",
            "_________________________________________________________________\n",
            "dense_22 (Dense)             (None, 128)               18560     \n",
            "_________________________________________________________________\n",
            "dense_23 (Dense)             (None, 10)                1290      \n",
            "=================================================================\n",
            "Total params: 43,578\n",
            "Trainable params: 43,578\n",
            "Non-trainable params: 0\n",
            "_________________________________________________________________\n",
            "Epoch 1/100\n",
            "188/188 - 3s - loss: 0.4152 - accuracy: 0.8711 - val_loss: 0.1273 - val_accuracy: 0.9603\n",
            "\n",
            "Epoch 00001: val_loss improved from inf to 0.12731, saving model to model.weights.best.hdf5\n",
            "Epoch 2/100\n",
            "188/188 - 2s - loss: 0.1051 - accuracy: 0.9670 - val_loss: 0.0901 - val_accuracy: 0.9724\n",
            "\n",
            "Epoch 00002: val_loss improved from 0.12731 to 0.09012, saving model to model.weights.best.hdf5\n",
            "Epoch 3/100\n",
            "188/188 - 2s - loss: 0.0695 - accuracy: 0.9787 - val_loss: 0.0758 - val_accuracy: 0.9764\n",
            "\n",
            "Epoch 00003: val_loss improved from 0.09012 to 0.07580, saving model to model.weights.best.hdf5\n",
            "Epoch 4/100\n",
            "188/188 - 2s - loss: 0.0525 - accuracy: 0.9835 - val_loss: 0.0515 - val_accuracy: 0.9842\n",
            "\n",
            "Epoch 00004: val_loss improved from 0.07580 to 0.05150, saving model to model.weights.best.hdf5\n",
            "Epoch 5/100\n",
            "188/188 - 2s - loss: 0.0417 - accuracy: 0.9868 - val_loss: 0.0545 - val_accuracy: 0.9830\n",
            "\n",
            "Epoch 00005: val_loss did not improve from 0.05150\n",
            "Epoch 6/100\n",
            "188/188 - 2s - loss: 0.0360 - accuracy: 0.9885 - val_loss: 0.0431 - val_accuracy: 0.9870\n",
            "\n",
            "Epoch 00006: val_loss improved from 0.05150 to 0.04313, saving model to model.weights.best.hdf5\n",
            "Epoch 7/100\n",
            "188/188 - 2s - loss: 0.0288 - accuracy: 0.9908 - val_loss: 0.0710 - val_accuracy: 0.9797\n",
            "\n",
            "Epoch 00007: val_loss did not improve from 0.04313\n",
            "Epoch 8/100\n",
            "188/188 - 2s - loss: 0.0243 - accuracy: 0.9923 - val_loss: 0.0445 - val_accuracy: 0.9875\n",
            "\n",
            "Epoch 00008: val_loss did not improve from 0.04313\n",
            "Epoch 9/100\n",
            "188/188 - 2s - loss: 0.0216 - accuracy: 0.9931 - val_loss: 0.0449 - val_accuracy: 0.9872\n",
            "\n",
            "Epoch 00009: val_loss did not improve from 0.04313\n",
            "Epoch 10/100\n",
            "188/188 - 2s - loss: 0.0182 - accuracy: 0.9943 - val_loss: 0.0548 - val_accuracy: 0.9843\n",
            "\n",
            "Epoch 00010: val_loss did not improve from 0.04313\n",
            "Epoch 11/100\n",
            "188/188 - 2s - loss: 0.0160 - accuracy: 0.9947 - val_loss: 0.0526 - val_accuracy: 0.9867\n",
            "\n",
            "Epoch 00011: val_loss did not improve from 0.04313\n",
            "Epoch 12/100\n",
            "188/188 - 2s - loss: 0.0135 - accuracy: 0.9954 - val_loss: 0.0543 - val_accuracy: 0.9868\n",
            "\n",
            "Epoch 00012: val_loss did not improve from 0.04313\n",
            "Epoch 13/100\n",
            "188/188 - 2s - loss: 0.0119 - accuracy: 0.9956 - val_loss: 0.0429 - val_accuracy: 0.9897\n",
            "\n",
            "Epoch 00013: val_loss improved from 0.04313 to 0.04295, saving model to model.weights.best.hdf5\n",
            "Epoch 14/100\n",
            "188/188 - 2s - loss: 0.0101 - accuracy: 0.9966 - val_loss: 0.0581 - val_accuracy: 0.9865\n",
            "\n",
            "Epoch 00014: val_loss did not improve from 0.04295\n",
            "Epoch 15/100\n",
            "188/188 - 2s - loss: 0.0086 - accuracy: 0.9973 - val_loss: 0.0486 - val_accuracy: 0.9892\n",
            "\n",
            "Epoch 00015: val_loss did not improve from 0.04295\n",
            "Epoch 16/100\n",
            "188/188 - 2s - loss: 0.0082 - accuracy: 0.9972 - val_loss: 0.0683 - val_accuracy: 0.9852\n",
            "\n",
            "Epoch 00016: val_loss did not improve from 0.04295\n",
            "Epoch 17/100\n",
            "188/188 - 2s - loss: 0.0071 - accuracy: 0.9977 - val_loss: 0.0536 - val_accuracy: 0.9886\n",
            "\n",
            "Epoch 00017: val_loss did not improve from 0.04295\n",
            "Epoch 18/100\n",
            "188/188 - 2s - loss: 0.0057 - accuracy: 0.9981 - val_loss: 0.0489 - val_accuracy: 0.9902\n",
            "\n",
            "Epoch 00018: val_loss did not improve from 0.04295\n",
            "Epoch 19/100\n",
            "188/188 - 2s - loss: 0.0053 - accuracy: 0.9980 - val_loss: 0.0615 - val_accuracy: 0.9885\n",
            "\n",
            "Epoch 00019: val_loss did not improve from 0.04295\n",
            "Epoch 20/100\n",
            "188/188 - 2s - loss: 0.0052 - accuracy: 0.9982 - val_loss: 0.0586 - val_accuracy: 0.9893\n",
            "\n",
            "Epoch 00020: val_loss did not improve from 0.04295\n",
            "Epoch 21/100\n",
            "188/188 - 2s - loss: 0.0052 - accuracy: 0.9984 - val_loss: 0.0661 - val_accuracy: 0.9876\n",
            "\n",
            "Epoch 00021: val_loss did not improve from 0.04295\n",
            "Epoch 22/100\n",
            "188/188 - 2s - loss: 0.0049 - accuracy: 0.9982 - val_loss: 0.0569 - val_accuracy: 0.9901\n",
            "\n",
            "Epoch 00022: val_loss did not improve from 0.04295\n",
            "Epoch 23/100\n",
            "188/188 - 2s - loss: 0.0044 - accuracy: 0.9985 - val_loss: 0.0601 - val_accuracy: 0.9886\n",
            "\n",
            "Epoch 00023: val_loss did not improve from 0.04295\n",
            "Restoring model weights from the end of the best epoch.\n",
            "Epoch 00023: early stopping\n"
          ],
          "name": "stdout"
        }
      ]
    },
    {
      "cell_type": "code",
      "metadata": {
        "colab": {
          "base_uri": "https://localhost:8080/"
        },
        "id": "GRwblE3bbE9y",
        "outputId": "d0819eda-f27e-4561-c765-815628094a72"
      },
      "source": [
        "# evaluate test accuracy\n",
        "score3 = model3.evaluate(X_test, y_test, verbose=0)\n",
        "accuracy3 = 100*score3[1]\n",
        "\n",
        "# print test accuracy\n",
        "print('Test accuracy: %.4f%%' % accuracy3)"
      ],
      "execution_count": null,
      "outputs": [
        {
          "output_type": "stream",
          "text": [
            "Test accuracy: 99.0000%\n"
          ],
          "name": "stdout"
        }
      ]
    },
    {
      "cell_type": "code",
      "metadata": {
        "id": "VZPSmZ2TbNat"
      },
      "source": [
        "Model_name.append('With more than 2 convolution and maxpooling layers')\n",
        "Model_acc.append(accuracy3)"
      ],
      "execution_count": null,
      "outputs": []
    },
    {
      "cell_type": "markdown",
      "metadata": {
        "id": "hutYa_hebsj3"
      },
      "source": [
        "# Model4 with More than 2 convolution and maxpooling layers and SELU Activation function"
      ]
    },
    {
      "cell_type": "code",
      "metadata": {
        "colab": {
          "base_uri": "https://localhost:8080/"
        },
        "id": "Y_qmZeQ6bvua",
        "outputId": "fc5b9f01-7fbb-4cd6-8309-39b3ca773e78"
      },
      "source": [
        "model4 = Sequential()\n",
        "#Step 2- Adding a Convolution Layer\n",
        "model4.add(Conv2D(64, kernel_size=(3, 3), padding='same',activation='selu',kernel_initializer='lecun_normal',input_shape=(28,28,1)))\n",
        "model4.add(MaxPooling2D(pool_size = (2, 2)))\n",
        "model4.add(Conv2D(32, kernel_size=(3, 3), padding='same',activation='selu',kernel_initializer='lecun_normal'))\n",
        "model4.add(MaxPooling2D(pool_size = (2, 2)))\n",
        "model4.add(Conv2D(16, kernel_size=(3, 3), padding='same',activation='selu',kernel_initializer='lecun_normal'))\n",
        "#step 3- Adding a Maxpooling layer\n",
        "model4.add(MaxPooling2D(pool_size = (2, 2)))\n",
        "#Step 4 - Flattening the data\n",
        "model4.add(Flatten())\n",
        "\n",
        "# Step 5 - Full connection\n",
        "model4.add(Dense(128, activation = 'relu'))\n",
        "\n",
        "model4.add(Dense(10, activation = 'softmax'))\n",
        "\n",
        "model4.summary()\n",
        "\n",
        "# Compiling the CNN\n",
        "model4.compile(loss='categorical_crossentropy', optimizer='rmsprop', \n",
        "              metrics=['accuracy'])\n",
        "\n",
        "# train the model\n",
        "checkpointer = ModelCheckpoint(filepath='model.weights.best.hdf5', verbose=1, \n",
        "                               save_best_only=True)\n",
        "Early_stopping = EarlyStopping(patience=10,verbose=1,restore_best_weights=True)\n",
        "hist = model4.fit(X_train, y_train, batch_size=256, epochs=100,\n",
        "          validation_split=0.2, callbacks=[checkpointer,Early_stopping],\n",
        "          verbose=2, shuffle=True)"
      ],
      "execution_count": null,
      "outputs": [
        {
          "output_type": "stream",
          "text": [
            "Model: \"sequential_16\"\n",
            "_________________________________________________________________\n",
            "Layer (type)                 Output Shape              Param #   \n",
            "=================================================================\n",
            "conv2d_27 (Conv2D)           (None, 28, 28, 64)        640       \n",
            "_________________________________________________________________\n",
            "max_pooling2d_14 (MaxPooling (None, 14, 14, 64)        0         \n",
            "_________________________________________________________________\n",
            "conv2d_28 (Conv2D)           (None, 14, 14, 32)        18464     \n",
            "_________________________________________________________________\n",
            "max_pooling2d_15 (MaxPooling (None, 7, 7, 32)          0         \n",
            "_________________________________________________________________\n",
            "conv2d_29 (Conv2D)           (None, 7, 7, 16)          4624      \n",
            "_________________________________________________________________\n",
            "max_pooling2d_16 (MaxPooling (None, 3, 3, 16)          0         \n",
            "_________________________________________________________________\n",
            "flatten_12 (Flatten)         (None, 144)               0         \n",
            "_________________________________________________________________\n",
            "dense_24 (Dense)             (None, 128)               18560     \n",
            "_________________________________________________________________\n",
            "dense_25 (Dense)             (None, 10)                1290      \n",
            "=================================================================\n",
            "Total params: 43,578\n",
            "Trainable params: 43,578\n",
            "Non-trainable params: 0\n",
            "_________________________________________________________________\n",
            "Epoch 1/100\n",
            "188/188 - 3s - loss: 0.3530 - accuracy: 0.8935 - val_loss: 0.1109 - val_accuracy: 0.9645\n",
            "\n",
            "Epoch 00001: val_loss improved from inf to 0.11094, saving model to model.weights.best.hdf5\n",
            "Epoch 2/100\n",
            "188/188 - 2s - loss: 0.0865 - accuracy: 0.9738 - val_loss: 0.0726 - val_accuracy: 0.9783\n",
            "\n",
            "Epoch 00002: val_loss improved from 0.11094 to 0.07260, saving model to model.weights.best.hdf5\n",
            "Epoch 3/100\n",
            "188/188 - 2s - loss: 0.0572 - accuracy: 0.9826 - val_loss: 0.0627 - val_accuracy: 0.9806\n",
            "\n",
            "Epoch 00003: val_loss improved from 0.07260 to 0.06272, saving model to model.weights.best.hdf5\n",
            "Epoch 4/100\n",
            "188/188 - 2s - loss: 0.0418 - accuracy: 0.9872 - val_loss: 0.0585 - val_accuracy: 0.9814\n",
            "\n",
            "Epoch 00004: val_loss improved from 0.06272 to 0.05849, saving model to model.weights.best.hdf5\n",
            "Epoch 5/100\n",
            "188/188 - 2s - loss: 0.0336 - accuracy: 0.9892 - val_loss: 0.0467 - val_accuracy: 0.9864\n",
            "\n",
            "Epoch 00005: val_loss improved from 0.05849 to 0.04674, saving model to model.weights.best.hdf5\n",
            "Epoch 6/100\n",
            "188/188 - 2s - loss: 0.0265 - accuracy: 0.9916 - val_loss: 0.0440 - val_accuracy: 0.9879\n",
            "\n",
            "Epoch 00006: val_loss improved from 0.04674 to 0.04400, saving model to model.weights.best.hdf5\n",
            "Epoch 7/100\n",
            "188/188 - 2s - loss: 0.0219 - accuracy: 0.9930 - val_loss: 0.0407 - val_accuracy: 0.9878\n",
            "\n",
            "Epoch 00007: val_loss improved from 0.04400 to 0.04065, saving model to model.weights.best.hdf5\n",
            "Epoch 8/100\n",
            "188/188 - 2s - loss: 0.0181 - accuracy: 0.9942 - val_loss: 0.0471 - val_accuracy: 0.9868\n",
            "\n",
            "Epoch 00008: val_loss did not improve from 0.04065\n",
            "Epoch 9/100\n",
            "188/188 - 2s - loss: 0.0147 - accuracy: 0.9955 - val_loss: 0.0528 - val_accuracy: 0.9862\n",
            "\n",
            "Epoch 00009: val_loss did not improve from 0.04065\n",
            "Epoch 10/100\n",
            "188/188 - 2s - loss: 0.0122 - accuracy: 0.9959 - val_loss: 0.0490 - val_accuracy: 0.9871\n",
            "\n",
            "Epoch 00010: val_loss did not improve from 0.04065\n",
            "Epoch 11/100\n",
            "188/188 - 2s - loss: 0.0100 - accuracy: 0.9965 - val_loss: 0.0500 - val_accuracy: 0.9874\n",
            "\n",
            "Epoch 00011: val_loss did not improve from 0.04065\n",
            "Epoch 12/100\n",
            "188/188 - 2s - loss: 0.0081 - accuracy: 0.9974 - val_loss: 0.0443 - val_accuracy: 0.9898\n",
            "\n",
            "Epoch 00012: val_loss did not improve from 0.04065\n",
            "Epoch 13/100\n",
            "188/188 - 2s - loss: 0.0069 - accuracy: 0.9976 - val_loss: 0.0512 - val_accuracy: 0.9888\n",
            "\n",
            "Epoch 00013: val_loss did not improve from 0.04065\n",
            "Epoch 14/100\n",
            "188/188 - 2s - loss: 0.0065 - accuracy: 0.9977 - val_loss: 0.0515 - val_accuracy: 0.9887\n",
            "\n",
            "Epoch 00014: val_loss did not improve from 0.04065\n",
            "Epoch 15/100\n",
            "188/188 - 2s - loss: 0.0053 - accuracy: 0.9982 - val_loss: 0.0664 - val_accuracy: 0.9865\n",
            "\n",
            "Epoch 00015: val_loss did not improve from 0.04065\n",
            "Epoch 16/100\n",
            "188/188 - 2s - loss: 0.0052 - accuracy: 0.9983 - val_loss: 0.0617 - val_accuracy: 0.9876\n",
            "\n",
            "Epoch 00016: val_loss did not improve from 0.04065\n",
            "Epoch 17/100\n",
            "188/188 - 2s - loss: 0.0050 - accuracy: 0.9982 - val_loss: 0.0722 - val_accuracy: 0.9864\n",
            "\n",
            "Epoch 00017: val_loss did not improve from 0.04065\n",
            "Restoring model weights from the end of the best epoch.\n",
            "Epoch 00017: early stopping\n"
          ],
          "name": "stdout"
        }
      ]
    },
    {
      "cell_type": "code",
      "metadata": {
        "colab": {
          "base_uri": "https://localhost:8080/"
        },
        "id": "R3KneDRCbpB7",
        "outputId": "689a13a1-9472-4552-a62c-d992a2a1cc20"
      },
      "source": [
        "# evaluate test accuracy\n",
        "score4 = model4.evaluate(X_test, y_test, verbose=0)\n",
        "accuracy4 = 100*score4[1]\n",
        "\n",
        "# print test accuracy\n",
        "print('Test accuracy: %.4f%%' % accuracy4)"
      ],
      "execution_count": null,
      "outputs": [
        {
          "output_type": "stream",
          "text": [
            "Test accuracy: 98.8300%\n"
          ],
          "name": "stdout"
        }
      ]
    },
    {
      "cell_type": "code",
      "metadata": {
        "id": "O1XZoE8LcRrA"
      },
      "source": [
        "Model_name.append('With More than 2 convolution and maxpooling layers and SELU Activation function')\n",
        "Model_acc.append(accuracy4)"
      ],
      "execution_count": null,
      "outputs": []
    },
    {
      "cell_type": "markdown",
      "metadata": {
        "id": "vpicdFIIcf2A"
      },
      "source": [
        "## Model5 with More than 2 convolution and maxpooling layers and SELU Activation function and More than 3 dense layers"
      ]
    },
    {
      "cell_type": "code",
      "metadata": {
        "colab": {
          "base_uri": "https://localhost:8080/"
        },
        "id": "G_FSTIcmcjGM",
        "outputId": "9b067c23-7d20-44c4-a92c-eb8b83430059"
      },
      "source": [
        "model5 = Sequential()\n",
        "#Step 2- Adding a Convolution Layer\n",
        "model5.add(Conv2D(64, kernel_size=(3, 3), padding='same',activation='selu',kernel_initializer='lecun_normal',input_shape=(28,28,1)))\n",
        "model5.add(MaxPooling2D(pool_size = (2, 2)))\n",
        "model5.add(Conv2D(32, kernel_size=(3, 3), padding='same',activation='selu',kernel_initializer='lecun_normal'))\n",
        "model5.add(MaxPooling2D(pool_size = (2, 2)))\n",
        "model5.add(Conv2D(16, kernel_size=(3, 3), padding='same',activation='selu',kernel_initializer='lecun_normal'))\n",
        "#step 3- Adding a Maxpooling layer\n",
        "model5.add(MaxPooling2D(pool_size = (2, 2)))\n",
        "#Step 4 - Flattening the data\n",
        "model5.add(Flatten())\n",
        "\n",
        "# Step 5 - Full connection\n",
        "model5.add(Dense(512, activation = 'selu'))\n",
        "model5.add(Dense(256, activation = 'selu'))\n",
        "model5.add(Dense(64, activation = 'selu'))\n",
        "\n",
        "model5.add(Dense(10, activation = 'softmax'))\n",
        "\n",
        "model5.summary()\n",
        "\n",
        "# Compiling the CNN\n",
        "model5.compile(loss='categorical_crossentropy', optimizer='adam', \n",
        "              metrics=['accuracy'])\n",
        "\n",
        "# train the model\n",
        "checkpointer = ModelCheckpoint(filepath='model.weights.best.hdf5', verbose=1, \n",
        "                               save_best_only=True)\n",
        "Early_stopping = EarlyStopping(patience=10,verbose=1,restore_best_weights=True)\n",
        "hist = model5.fit(X_train, y_train, batch_size=512, epochs=100,\n",
        "          validation_split=0.2, callbacks=[checkpointer,Early_stopping],\n",
        "          verbose=2, shuffle=True)"
      ],
      "execution_count": null,
      "outputs": [
        {
          "output_type": "stream",
          "text": [
            "Model: \"sequential_17\"\n",
            "_________________________________________________________________\n",
            "Layer (type)                 Output Shape              Param #   \n",
            "=================================================================\n",
            "conv2d_30 (Conv2D)           (None, 28, 28, 64)        640       \n",
            "_________________________________________________________________\n",
            "max_pooling2d_17 (MaxPooling (None, 14, 14, 64)        0         \n",
            "_________________________________________________________________\n",
            "conv2d_31 (Conv2D)           (None, 14, 14, 32)        18464     \n",
            "_________________________________________________________________\n",
            "max_pooling2d_18 (MaxPooling (None, 7, 7, 32)          0         \n",
            "_________________________________________________________________\n",
            "conv2d_32 (Conv2D)           (None, 7, 7, 16)          4624      \n",
            "_________________________________________________________________\n",
            "max_pooling2d_19 (MaxPooling (None, 3, 3, 16)          0         \n",
            "_________________________________________________________________\n",
            "flatten_13 (Flatten)         (None, 144)               0         \n",
            "_________________________________________________________________\n",
            "dense_26 (Dense)             (None, 512)               74240     \n",
            "_________________________________________________________________\n",
            "dense_27 (Dense)             (None, 256)               131328    \n",
            "_________________________________________________________________\n",
            "dense_28 (Dense)             (None, 64)                16448     \n",
            "_________________________________________________________________\n",
            "dense_29 (Dense)             (None, 10)                650       \n",
            "=================================================================\n",
            "Total params: 246,394\n",
            "Trainable params: 246,394\n",
            "Non-trainable params: 0\n",
            "_________________________________________________________________\n",
            "Epoch 1/100\n",
            "94/94 - 3s - loss: 0.4595 - accuracy: 0.8596 - val_loss: 0.1141 - val_accuracy: 0.9654\n",
            "\n",
            "Epoch 00001: val_loss improved from inf to 0.11406, saving model to model.weights.best.hdf5\n",
            "Epoch 2/100\n",
            "94/94 - 2s - loss: 0.0931 - accuracy: 0.9716 - val_loss: 0.0764 - val_accuracy: 0.9756\n",
            "\n",
            "Epoch 00002: val_loss improved from 0.11406 to 0.07640, saving model to model.weights.best.hdf5\n",
            "Epoch 3/100\n",
            "94/94 - 2s - loss: 0.0660 - accuracy: 0.9791 - val_loss: 0.0660 - val_accuracy: 0.9795\n",
            "\n",
            "Epoch 00003: val_loss improved from 0.07640 to 0.06599, saving model to model.weights.best.hdf5\n",
            "Epoch 4/100\n",
            "94/94 - 2s - loss: 0.0520 - accuracy: 0.9838 - val_loss: 0.0597 - val_accuracy: 0.9821\n",
            "\n",
            "Epoch 00004: val_loss improved from 0.06599 to 0.05973, saving model to model.weights.best.hdf5\n",
            "Epoch 5/100\n",
            "94/94 - 2s - loss: 0.0435 - accuracy: 0.9866 - val_loss: 0.0549 - val_accuracy: 0.9837\n",
            "\n",
            "Epoch 00005: val_loss improved from 0.05973 to 0.05490, saving model to model.weights.best.hdf5\n",
            "Epoch 6/100\n",
            "94/94 - 2s - loss: 0.0338 - accuracy: 0.9892 - val_loss: 0.0446 - val_accuracy: 0.9858\n",
            "\n",
            "Epoch 00006: val_loss improved from 0.05490 to 0.04457, saving model to model.weights.best.hdf5\n",
            "Epoch 7/100\n",
            "94/94 - 2s - loss: 0.0323 - accuracy: 0.9896 - val_loss: 0.0470 - val_accuracy: 0.9863\n",
            "\n",
            "Epoch 00007: val_loss did not improve from 0.04457\n",
            "Epoch 8/100\n",
            "94/94 - 2s - loss: 0.0254 - accuracy: 0.9914 - val_loss: 0.0482 - val_accuracy: 0.9858\n",
            "\n",
            "Epoch 00008: val_loss did not improve from 0.04457\n",
            "Epoch 9/100\n",
            "94/94 - 2s - loss: 0.0228 - accuracy: 0.9923 - val_loss: 0.0468 - val_accuracy: 0.9854\n",
            "\n",
            "Epoch 00009: val_loss did not improve from 0.04457\n",
            "Epoch 10/100\n",
            "94/94 - 2s - loss: 0.0184 - accuracy: 0.9940 - val_loss: 0.0472 - val_accuracy: 0.9866\n",
            "\n",
            "Epoch 00010: val_loss did not improve from 0.04457\n",
            "Epoch 11/100\n",
            "94/94 - 2s - loss: 0.0147 - accuracy: 0.9952 - val_loss: 0.0425 - val_accuracy: 0.9879\n",
            "\n",
            "Epoch 00011: val_loss improved from 0.04457 to 0.04251, saving model to model.weights.best.hdf5\n",
            "Epoch 12/100\n",
            "94/94 - 2s - loss: 0.0096 - accuracy: 0.9972 - val_loss: 0.0435 - val_accuracy: 0.9876\n",
            "\n",
            "Epoch 00012: val_loss did not improve from 0.04251\n",
            "Epoch 13/100\n",
            "94/94 - 2s - loss: 0.0137 - accuracy: 0.9953 - val_loss: 0.0481 - val_accuracy: 0.9871\n",
            "\n",
            "Epoch 00013: val_loss did not improve from 0.04251\n",
            "Epoch 14/100\n",
            "94/94 - 2s - loss: 0.0124 - accuracy: 0.9956 - val_loss: 0.0521 - val_accuracy: 0.9865\n",
            "\n",
            "Epoch 00014: val_loss did not improve from 0.04251\n",
            "Epoch 15/100\n",
            "94/94 - 2s - loss: 0.0103 - accuracy: 0.9967 - val_loss: 0.0493 - val_accuracy: 0.9872\n",
            "\n",
            "Epoch 00015: val_loss did not improve from 0.04251\n",
            "Epoch 16/100\n",
            "94/94 - 2s - loss: 0.0096 - accuracy: 0.9964 - val_loss: 0.0586 - val_accuracy: 0.9861\n",
            "\n",
            "Epoch 00016: val_loss did not improve from 0.04251\n",
            "Epoch 17/100\n",
            "94/94 - 2s - loss: 0.0084 - accuracy: 0.9971 - val_loss: 0.0504 - val_accuracy: 0.9884\n",
            "\n",
            "Epoch 00017: val_loss did not improve from 0.04251\n",
            "Epoch 18/100\n",
            "94/94 - 2s - loss: 0.0081 - accuracy: 0.9971 - val_loss: 0.0472 - val_accuracy: 0.9881\n",
            "\n",
            "Epoch 00018: val_loss did not improve from 0.04251\n",
            "Epoch 19/100\n",
            "94/94 - 2s - loss: 0.0033 - accuracy: 0.9990 - val_loss: 0.0478 - val_accuracy: 0.9892\n",
            "\n",
            "Epoch 00019: val_loss did not improve from 0.04251\n",
            "Epoch 20/100\n",
            "94/94 - 2s - loss: 0.0065 - accuracy: 0.9977 - val_loss: 0.0669 - val_accuracy: 0.9848\n",
            "\n",
            "Epoch 00020: val_loss did not improve from 0.04251\n",
            "Epoch 21/100\n",
            "94/94 - 2s - loss: 0.0162 - accuracy: 0.9944 - val_loss: 0.0705 - val_accuracy: 0.9847\n",
            "\n",
            "Epoch 00021: val_loss did not improve from 0.04251\n",
            "Restoring model weights from the end of the best epoch.\n",
            "Epoch 00021: early stopping\n"
          ],
          "name": "stdout"
        }
      ]
    },
    {
      "cell_type": "code",
      "metadata": {
        "colab": {
          "base_uri": "https://localhost:8080/"
        },
        "id": "amDO7KZTcZV-",
        "outputId": "dadb8b7b-ddb4-4076-d850-ee462f6b3fe7"
      },
      "source": [
        "# evaluate test accuracy\n",
        "score5 = model5.evaluate(X_test, y_test, verbose=0)\n",
        "accuracy5 = 100*score5[1]\n",
        "\n",
        "# print test accuracy\n",
        "print('Test accuracy: %.4f%%' % accuracy5)"
      ],
      "execution_count": null,
      "outputs": [
        {
          "output_type": "stream",
          "text": [
            "Test accuracy: 98.7800%\n"
          ],
          "name": "stdout"
        }
      ]
    },
    {
      "cell_type": "code",
      "metadata": {
        "id": "rXZZ3Y6WdF1y"
      },
      "source": [
        "Model_name.append('With More than 2 convolution and maxpooling layers and SELU Activation function and more than 2 dense layers')\n",
        "Model_acc.append(accuracy5)"
      ],
      "execution_count": null,
      "outputs": []
    },
    {
      "cell_type": "code",
      "metadata": {
        "colab": {
          "base_uri": "https://localhost:8080/"
        },
        "id": "1qKZseA_dMsg",
        "outputId": "fef8bc64-5331-4b2e-8024-e8b2315c0057"
      },
      "source": [
        "print(Model_name, Model_acc)"
      ],
      "execution_count": null,
      "outputs": [
        {
          "output_type": "stream",
          "text": [
            "['With 1 Convolution Layer', 'With 2 Convolution Layer', 'With more than 2 convolution and maxpooling layers', 'With More than 2 convolution and maxpooling layers and SELU Activation function', 'With More than 2 convolution and maxpooling layers and SELU Activation function and more than 2 dense layers'] [98.47999811172485, 98.78000020980835, 99.00000095367432, 98.83000254631042, 98.78000020980835]\n"
          ],
          "name": "stdout"
        }
      ]
    },
    {
      "cell_type": "code",
      "metadata": {
        "colab": {
          "base_uri": "https://localhost:8080/",
          "height": 204
        },
        "id": "KGYUzH8tdSyO",
        "outputId": "19826a03-84d0-4ba8-ac23-35631883cf05"
      },
      "source": [
        "Model_Summary = pd.DataFrame({'Model Name': Model_name,'Model Accuracy' : Model_acc})\n",
        "Model_Summary"
      ],
      "execution_count": null,
      "outputs": [
        {
          "output_type": "execute_result",
          "data": {
            "text/html": [
              "<div>\n",
              "<style scoped>\n",
              "    .dataframe tbody tr th:only-of-type {\n",
              "        vertical-align: middle;\n",
              "    }\n",
              "\n",
              "    .dataframe tbody tr th {\n",
              "        vertical-align: top;\n",
              "    }\n",
              "\n",
              "    .dataframe thead th {\n",
              "        text-align: right;\n",
              "    }\n",
              "</style>\n",
              "<table border=\"1\" class=\"dataframe\">\n",
              "  <thead>\n",
              "    <tr style=\"text-align: right;\">\n",
              "      <th></th>\n",
              "      <th>Model Name</th>\n",
              "      <th>Model Accuracy</th>\n",
              "    </tr>\n",
              "  </thead>\n",
              "  <tbody>\n",
              "    <tr>\n",
              "      <th>0</th>\n",
              "      <td>With 1 Convolution Layer</td>\n",
              "      <td>98.479998</td>\n",
              "    </tr>\n",
              "    <tr>\n",
              "      <th>1</th>\n",
              "      <td>With 2 Convolution Layer</td>\n",
              "      <td>98.780000</td>\n",
              "    </tr>\n",
              "    <tr>\n",
              "      <th>2</th>\n",
              "      <td>With more than 2 convolution and maxpooling la...</td>\n",
              "      <td>99.000001</td>\n",
              "    </tr>\n",
              "    <tr>\n",
              "      <th>3</th>\n",
              "      <td>With More than 2 convolution and maxpooling la...</td>\n",
              "      <td>98.830003</td>\n",
              "    </tr>\n",
              "    <tr>\n",
              "      <th>4</th>\n",
              "      <td>With More than 2 convolution and maxpooling la...</td>\n",
              "      <td>98.780000</td>\n",
              "    </tr>\n",
              "  </tbody>\n",
              "</table>\n",
              "</div>"
            ],
            "text/plain": [
              "                                          Model Name  Model Accuracy\n",
              "0                           With 1 Convolution Layer       98.479998\n",
              "1                           With 2 Convolution Layer       98.780000\n",
              "2  With more than 2 convolution and maxpooling la...       99.000001\n",
              "3  With More than 2 convolution and maxpooling la...       98.830003\n",
              "4  With More than 2 convolution and maxpooling la...       98.780000"
            ]
          },
          "metadata": {
            "tags": []
          },
          "execution_count": 140
        }
      ]
    },
    {
      "cell_type": "code",
      "metadata": {
        "id": "fEu-kZnqeCzE"
      },
      "source": [
        ""
      ],
      "execution_count": null,
      "outputs": []
    },
    {
      "cell_type": "code",
      "metadata": {
        "id": "VxSQl95Dd_Fx"
      },
      "source": [
        ""
      ],
      "execution_count": null,
      "outputs": []
    },
    {
      "cell_type": "code",
      "metadata": {
        "id": "07vOkJpXdYBn"
      },
      "source": [
        ""
      ],
      "execution_count": null,
      "outputs": []
    }
  ]
}